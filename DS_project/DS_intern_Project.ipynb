{
 "cells": [
  {
   "cell_type": "markdown",
   "id": "509ef304-31a1-4617-981e-a701906a8322",
   "metadata": {},
   "source": [
    "# Iris Flower"
   ]
  },
  {
   "cell_type": "raw",
   "id": "53ef546f-cffc-4af9-a26a-e2cf0ef24e75",
   "metadata": {},
   "source": [
    "Description: Iris flower dataset containing sepal and petal measurements for three\n",
    "species of iris flowers.\n",
    "Find:\n",
    "● Print the names of all iris flowers with petal length greater than 5.\n",
    "● Sort and print the names of iris flowers with sepal width less than 3.\n",
    "● How many samples are there for each species?\n",
    "● Print the sepal length and width of iris flowers (non-null values) with petal width\n",
    "less than 1.\n",
    "● How many iris flowers have petal length greater than 6 and sepal width less than\n",
    "3?\n",
    "● How many samples are there for each species in total?\n",
    "● Print the names of iris flowers with sepal length greater than 7 and petal width\n",
    "less than 0.3.\n",
    "● Print the names of iris flowers with the highest and lowest petal lengths.\n",
    "● Find information about the iris flowers with the widest sepals.\n",
    "● Plot the distribution of petal lengths for each specie"
   ]
  },
  {
   "cell_type": "code",
   "execution_count": 7,
   "id": "8de8539f-baa5-431a-bd65-9cfb15282960",
   "metadata": {},
   "outputs": [],
   "source": [
    "# importing libraries\n",
    "import numpy as np\n",
    "import pandas as pd\n",
    "import matplotlib.pyplot as plt"
   ]
  },
  {
   "cell_type": "code",
   "execution_count": 6,
   "id": "4cdcccca-50e6-4c25-a3c3-825d64556cf7",
   "metadata": {},
   "outputs": [],
   "source": [
    "# Loading Data set\n",
    "df = pd.read_csv('iris.csv')"
   ]
  },
  {
   "cell_type": "code",
   "execution_count": 8,
   "id": "cb5cc32a-a56b-431f-a39e-e05c24a4e954",
   "metadata": {},
   "outputs": [
    {
     "data": {
      "text/html": [
       "<div>\n",
       "<style scoped>\n",
       "    .dataframe tbody tr th:only-of-type {\n",
       "        vertical-align: middle;\n",
       "    }\n",
       "\n",
       "    .dataframe tbody tr th {\n",
       "        vertical-align: top;\n",
       "    }\n",
       "\n",
       "    .dataframe thead th {\n",
       "        text-align: right;\n",
       "    }\n",
       "</style>\n",
       "<table border=\"1\" class=\"dataframe\">\n",
       "  <thead>\n",
       "    <tr style=\"text-align: right;\">\n",
       "      <th></th>\n",
       "      <th>sepal_length</th>\n",
       "      <th>sepal_width</th>\n",
       "      <th>petal_length</th>\n",
       "      <th>petal_width</th>\n",
       "      <th>species</th>\n",
       "    </tr>\n",
       "  </thead>\n",
       "  <tbody>\n",
       "    <tr>\n",
       "      <th>0</th>\n",
       "      <td>5.1</td>\n",
       "      <td>3.5</td>\n",
       "      <td>1.4</td>\n",
       "      <td>0.2</td>\n",
       "      <td>Iris-setosa</td>\n",
       "    </tr>\n",
       "    <tr>\n",
       "      <th>1</th>\n",
       "      <td>4.9</td>\n",
       "      <td>3.0</td>\n",
       "      <td>1.4</td>\n",
       "      <td>0.2</td>\n",
       "      <td>Iris-setosa</td>\n",
       "    </tr>\n",
       "    <tr>\n",
       "      <th>2</th>\n",
       "      <td>4.7</td>\n",
       "      <td>3.2</td>\n",
       "      <td>1.3</td>\n",
       "      <td>0.2</td>\n",
       "      <td>Iris-setosa</td>\n",
       "    </tr>\n",
       "    <tr>\n",
       "      <th>3</th>\n",
       "      <td>4.6</td>\n",
       "      <td>3.1</td>\n",
       "      <td>1.5</td>\n",
       "      <td>0.2</td>\n",
       "      <td>Iris-setosa</td>\n",
       "    </tr>\n",
       "    <tr>\n",
       "      <th>4</th>\n",
       "      <td>5.0</td>\n",
       "      <td>3.6</td>\n",
       "      <td>1.4</td>\n",
       "      <td>0.2</td>\n",
       "      <td>Iris-setosa</td>\n",
       "    </tr>\n",
       "    <tr>\n",
       "      <th>...</th>\n",
       "      <td>...</td>\n",
       "      <td>...</td>\n",
       "      <td>...</td>\n",
       "      <td>...</td>\n",
       "      <td>...</td>\n",
       "    </tr>\n",
       "    <tr>\n",
       "      <th>145</th>\n",
       "      <td>6.7</td>\n",
       "      <td>3.0</td>\n",
       "      <td>5.2</td>\n",
       "      <td>2.3</td>\n",
       "      <td>Iris-virginica</td>\n",
       "    </tr>\n",
       "    <tr>\n",
       "      <th>146</th>\n",
       "      <td>6.3</td>\n",
       "      <td>2.5</td>\n",
       "      <td>5.0</td>\n",
       "      <td>1.9</td>\n",
       "      <td>Iris-virginica</td>\n",
       "    </tr>\n",
       "    <tr>\n",
       "      <th>147</th>\n",
       "      <td>6.5</td>\n",
       "      <td>3.0</td>\n",
       "      <td>5.2</td>\n",
       "      <td>2.0</td>\n",
       "      <td>Iris-virginica</td>\n",
       "    </tr>\n",
       "    <tr>\n",
       "      <th>148</th>\n",
       "      <td>6.2</td>\n",
       "      <td>3.4</td>\n",
       "      <td>5.4</td>\n",
       "      <td>2.3</td>\n",
       "      <td>Iris-virginica</td>\n",
       "    </tr>\n",
       "    <tr>\n",
       "      <th>149</th>\n",
       "      <td>5.9</td>\n",
       "      <td>3.0</td>\n",
       "      <td>5.1</td>\n",
       "      <td>1.8</td>\n",
       "      <td>Iris-virginica</td>\n",
       "    </tr>\n",
       "  </tbody>\n",
       "</table>\n",
       "<p>150 rows × 5 columns</p>\n",
       "</div>"
      ],
      "text/plain": [
       "     sepal_length  sepal_width  petal_length  petal_width         species\n",
       "0             5.1          3.5           1.4          0.2     Iris-setosa\n",
       "1             4.9          3.0           1.4          0.2     Iris-setosa\n",
       "2             4.7          3.2           1.3          0.2     Iris-setosa\n",
       "3             4.6          3.1           1.5          0.2     Iris-setosa\n",
       "4             5.0          3.6           1.4          0.2     Iris-setosa\n",
       "..            ...          ...           ...          ...             ...\n",
       "145           6.7          3.0           5.2          2.3  Iris-virginica\n",
       "146           6.3          2.5           5.0          1.9  Iris-virginica\n",
       "147           6.5          3.0           5.2          2.0  Iris-virginica\n",
       "148           6.2          3.4           5.4          2.3  Iris-virginica\n",
       "149           5.9          3.0           5.1          1.8  Iris-virginica\n",
       "\n",
       "[150 rows x 5 columns]"
      ]
     },
     "execution_count": 8,
     "metadata": {},
     "output_type": "execute_result"
    }
   ],
   "source": [
    "df"
   ]
  },
  {
   "cell_type": "raw",
   "id": "36b61479-f220-4558-be52-826ba6807c8c",
   "metadata": {},
   "source": [
    "● Print the names of all iris flowers with petal length greater than 5."
   ]
  },
  {
   "cell_type": "code",
   "execution_count": 9,
   "id": "699db2a9-5db3-4546-823d-c330dc932b6f",
   "metadata": {},
   "outputs": [
    {
     "data": {
      "text/plain": [
       "83     Iris-versicolor\n",
       "100     Iris-virginica\n",
       "101     Iris-virginica\n",
       "102     Iris-virginica\n",
       "103     Iris-virginica\n",
       "104     Iris-virginica\n",
       "105     Iris-virginica\n",
       "107     Iris-virginica\n",
       "108     Iris-virginica\n",
       "109     Iris-virginica\n",
       "110     Iris-virginica\n",
       "111     Iris-virginica\n",
       "112     Iris-virginica\n",
       "114     Iris-virginica\n",
       "115     Iris-virginica\n",
       "116     Iris-virginica\n",
       "117     Iris-virginica\n",
       "118     Iris-virginica\n",
       "120     Iris-virginica\n",
       "122     Iris-virginica\n",
       "124     Iris-virginica\n",
       "125     Iris-virginica\n",
       "128     Iris-virginica\n",
       "129     Iris-virginica\n",
       "130     Iris-virginica\n",
       "131     Iris-virginica\n",
       "132     Iris-virginica\n",
       "133     Iris-virginica\n",
       "134     Iris-virginica\n",
       "135     Iris-virginica\n",
       "136     Iris-virginica\n",
       "137     Iris-virginica\n",
       "139     Iris-virginica\n",
       "140     Iris-virginica\n",
       "141     Iris-virginica\n",
       "142     Iris-virginica\n",
       "143     Iris-virginica\n",
       "144     Iris-virginica\n",
       "145     Iris-virginica\n",
       "147     Iris-virginica\n",
       "148     Iris-virginica\n",
       "149     Iris-virginica\n",
       "Name: species, dtype: object"
      ]
     },
     "execution_count": 9,
     "metadata": {},
     "output_type": "execute_result"
    }
   ],
   "source": [
    "df[df['petal_length'] > 5]['species']"
   ]
  },
  {
   "cell_type": "raw",
   "id": "77d2ed8e-7cc1-402e-a3a7-243f628b0637",
   "metadata": {},
   "source": [
    "● Sort and print the names of iris flowers with sepal width less than 3."
   ]
  },
  {
   "cell_type": "code",
   "execution_count": 11,
   "id": "9dbc26bb-db9c-413a-8f12-29cb0b89737c",
   "metadata": {},
   "outputs": [
    {
     "data": {
      "text/plain": [
       "60     Iris-versicolor\n",
       "119     Iris-virginica\n",
       "62     Iris-versicolor\n",
       "68     Iris-versicolor\n",
       "41         Iris-setosa\n",
       "53     Iris-versicolor\n",
       "87     Iris-versicolor\n",
       "93     Iris-versicolor\n",
       "80     Iris-versicolor\n",
       "57     Iris-versicolor\n",
       "81     Iris-versicolor\n",
       "89     Iris-versicolor\n",
       "72     Iris-versicolor\n",
       "69     Iris-versicolor\n",
       "146     Iris-virginica\n",
       "106     Iris-virginica\n",
       "113     Iris-virginica\n",
       "98     Iris-versicolor\n",
       "108     Iris-virginica\n",
       "92     Iris-versicolor\n",
       "118     Iris-virginica\n",
       "134     Iris-virginica\n",
       "90     Iris-versicolor\n",
       "79     Iris-versicolor\n",
       "82     Iris-versicolor\n",
       "83     Iris-versicolor\n",
       "123     Iris-virginica\n",
       "142     Iris-virginica\n",
       "59     Iris-versicolor\n",
       "94     Iris-versicolor\n",
       "111     Iris-virginica\n",
       "67     Iris-versicolor\n",
       "101     Iris-virginica\n",
       "99     Iris-versicolor\n",
       "55     Iris-versicolor\n",
       "114     Iris-virginica\n",
       "126     Iris-virginica\n",
       "128     Iris-virginica\n",
       "122     Iris-virginica\n",
       "121     Iris-virginica\n",
       "132     Iris-virginica\n",
       "133     Iris-virginica\n",
       "71     Iris-versicolor\n",
       "73     Iris-versicolor\n",
       "54     Iris-versicolor\n",
       "76     Iris-versicolor\n",
       "130     Iris-virginica\n",
       "78     Iris-versicolor\n",
       "107     Iris-virginica\n",
       "63     Iris-versicolor\n",
       "64     Iris-versicolor\n",
       "103     Iris-virginica\n",
       "97     Iris-versicolor\n",
       "96     Iris-versicolor\n",
       "74     Iris-versicolor\n",
       "58     Iris-versicolor\n",
       "8          Iris-setosa\n",
       "Name: species, dtype: object"
      ]
     },
     "execution_count": 11,
     "metadata": {},
     "output_type": "execute_result"
    }
   ],
   "source": [
    "df[df['sepal_width'] < 3].sort_values(by='sepal_width')['species']"
   ]
  },
  {
   "cell_type": "raw",
   "id": "1638e28e-00e9-4497-b89e-7c7cfca2445b",
   "metadata": {},
   "source": [
    "● How many samples are there for each species?"
   ]
  },
  {
   "cell_type": "code",
   "execution_count": 13,
   "id": "708d4242-ee8a-4f67-a06c-85312d235a72",
   "metadata": {},
   "outputs": [
    {
     "data": {
      "text/plain": [
       "150"
      ]
     },
     "execution_count": 13,
     "metadata": {},
     "output_type": "execute_result"
    }
   ],
   "source": [
    "df['species'].count()"
   ]
  },
  {
   "cell_type": "raw",
   "id": "c565c793-f7aa-4236-8723-4eebcbc070e9",
   "metadata": {},
   "source": [
    "● Print the sepal length and width of iris flowers (non-null values) with petal width less than 1."
   ]
  },
  {
   "cell_type": "code",
   "execution_count": 19,
   "id": "712017b7-2633-4e03-9cce-1a7c471ab05a",
   "metadata": {},
   "outputs": [
    {
     "name": "stdout",
     "output_type": "stream",
     "text": [
      "    sepal_length  sepal_width\n",
      "0            5.1          3.5\n",
      "1            4.9          3.0\n",
      "2            4.7          3.2\n",
      "3            4.6          3.1\n",
      "4            5.0          3.6\n",
      "5            5.4          3.9\n",
      "6            4.6          3.4\n",
      "7            5.0          3.4\n",
      "8            4.4          2.9\n",
      "9            4.9          3.1\n",
      "10           5.4          3.7\n",
      "11           4.8          3.4\n",
      "12           4.8          3.0\n",
      "13           4.3          3.0\n",
      "14           5.8          4.0\n",
      "15           5.7          4.4\n",
      "16           5.4          3.9\n",
      "17           5.1          3.5\n",
      "18           5.7          3.8\n",
      "19           5.1          3.8\n",
      "20           5.4          3.4\n",
      "21           5.1          3.7\n",
      "22           4.6          3.6\n",
      "23           5.1          3.3\n",
      "24           4.8          3.4\n",
      "25           5.0          3.0\n",
      "26           5.0          3.4\n",
      "27           5.2          3.5\n",
      "28           5.2          3.4\n",
      "29           4.7          3.2\n",
      "30           4.8          3.1\n",
      "31           5.4          3.4\n",
      "32           5.2          4.1\n",
      "33           5.5          4.2\n",
      "34           4.9          3.1\n",
      "35           5.0          3.2\n",
      "36           5.5          3.5\n",
      "37           4.9          3.1\n",
      "38           4.4          3.0\n",
      "39           5.1          3.4\n",
      "40           5.0          3.5\n",
      "41           4.5          2.3\n",
      "42           4.4          3.2\n",
      "43           5.0          3.5\n",
      "44           5.1          3.8\n",
      "45           4.8          3.0\n",
      "46           5.1          3.8\n",
      "47           4.6          3.2\n",
      "48           5.3          3.7\n",
      "49           5.0          3.3\n"
     ]
    }
   ],
   "source": [
    "data = df[df['petal_width'] < 1].dropna(subset=['sepal_length', 'sepal_width'])\n",
    "print(data[['sepal_length', 'sepal_width']])"
   ]
  },
  {
   "cell_type": "raw",
   "id": "b810d132-6f8c-4a9e-810c-33c558ab0d44",
   "metadata": {},
   "source": [
    "● How many iris flowers have petal length greater than 6 and sepal width less than 3?"
   ]
  },
  {
   "cell_type": "code",
   "execution_count": 24,
   "id": "d1f82fe6-5be8-4d16-87ef-fdb7044dea38",
   "metadata": {},
   "outputs": [
    {
     "data": {
      "text/plain": [
       "4"
      ]
     },
     "execution_count": 24,
     "metadata": {},
     "output_type": "execute_result"
    }
   ],
   "source": [
    "len(df[(df['petal_length'] > 6) & (df['sepal_width'] < 3)])"
   ]
  },
  {
   "cell_type": "raw",
   "id": "60878a4f-3584-4b90-89d1-35386d2187a6",
   "metadata": {},
   "source": [
    "● How many samples are there for each species in total?"
   ]
  },
  {
   "cell_type": "code",
   "execution_count": 28,
   "id": "d4cecec9-147c-41fd-bbce-324c2700e88e",
   "metadata": {},
   "outputs": [
    {
     "data": {
      "text/plain": [
       "species\n",
       "Iris-setosa        50\n",
       "Iris-versicolor    50\n",
       "Iris-virginica     50\n",
       "dtype: int64"
      ]
     },
     "execution_count": 28,
     "metadata": {},
     "output_type": "execute_result"
    }
   ],
   "source": [
    "df.groupby('species').size()"
   ]
  },
  {
   "cell_type": "raw",
   "id": "67e8c559-b5c7-45ae-aead-89665658eb55",
   "metadata": {},
   "source": [
    "● Print the names of iris flowers with sepal length greater than 7 and petal width less than 0.3."
   ]
  },
  {
   "cell_type": "code",
   "execution_count": 29,
   "id": "8c06fa4a-b4f7-4a18-9b84-b7bfee400c21",
   "metadata": {},
   "outputs": [
    {
     "data": {
      "text/plain": [
       "Series([], Name: species, dtype: object)"
      ]
     },
     "execution_count": 29,
     "metadata": {},
     "output_type": "execute_result"
    }
   ],
   "source": [
    "df[(df['sepal_length'] > 7) & (df['petal_width'] < 0.3)]['species']"
   ]
  },
  {
   "cell_type": "raw",
   "id": "02b551cf-d26f-4e8c-a1fd-86d52bec977e",
   "metadata": {},
   "source": [
    "● Print the names of iris flowers with the highest and lowest petal lengths."
   ]
  },
  {
   "cell_type": "code",
   "execution_count": 37,
   "id": "170ac547-663f-4562-a221-5515b6284e8f",
   "metadata": {},
   "outputs": [
    {
     "name": "stdout",
     "output_type": "stream",
     "text": [
      "Highest petal length :: Iris-virginica\n",
      "Lowest petal length :: Iris-setosa\n"
     ]
    }
   ],
   "source": [
    "high_petallen = df['petal_length'].idxmax()\n",
    "low_petallen = df['petal_length'].idxmin()\n",
    "\n",
    "high = df.iloc[high_petallen]['species']\n",
    "low = df.iloc[low_petallen]['species']\n",
    "\n",
    "print('Highest petal length ::', high)\n",
    "print('Lowest petal length ::', low)"
   ]
  },
  {
   "cell_type": "raw",
   "id": "cc1a895b-ce06-4e3a-9413-a9fbf85f7af7",
   "metadata": {},
   "source": [
    "● Find information about the iris flowers with the widest sepals."
   ]
  },
  {
   "cell_type": "code",
   "execution_count": 38,
   "id": "e89ed15d-0763-4973-ab75-157387e0cad3",
   "metadata": {},
   "outputs": [
    {
     "data": {
      "text/html": [
       "<div>\n",
       "<style scoped>\n",
       "    .dataframe tbody tr th:only-of-type {\n",
       "        vertical-align: middle;\n",
       "    }\n",
       "\n",
       "    .dataframe tbody tr th {\n",
       "        vertical-align: top;\n",
       "    }\n",
       "\n",
       "    .dataframe thead th {\n",
       "        text-align: right;\n",
       "    }\n",
       "</style>\n",
       "<table border=\"1\" class=\"dataframe\">\n",
       "  <thead>\n",
       "    <tr style=\"text-align: right;\">\n",
       "      <th></th>\n",
       "      <th>sepal_length</th>\n",
       "      <th>sepal_width</th>\n",
       "      <th>petal_length</th>\n",
       "      <th>petal_width</th>\n",
       "      <th>species</th>\n",
       "    </tr>\n",
       "  </thead>\n",
       "  <tbody>\n",
       "    <tr>\n",
       "      <th>15</th>\n",
       "      <td>5.7</td>\n",
       "      <td>4.4</td>\n",
       "      <td>1.5</td>\n",
       "      <td>0.4</td>\n",
       "      <td>Iris-setosa</td>\n",
       "    </tr>\n",
       "  </tbody>\n",
       "</table>\n",
       "</div>"
      ],
      "text/plain": [
       "    sepal_length  sepal_width  petal_length  petal_width      species\n",
       "15           5.7          4.4           1.5          0.4  Iris-setosa"
      ]
     },
     "execution_count": 38,
     "metadata": {},
     "output_type": "execute_result"
    }
   ],
   "source": [
    "df[df['sepal_width'] == df['sepal_width'].max()]"
   ]
  },
  {
   "cell_type": "raw",
   "id": "ff701f6f-39cc-4cc4-8281-6d895d297b04",
   "metadata": {},
   "source": [
    "● Plot the distribution of petal lengths for each specie"
   ]
  },
  {
   "cell_type": "code",
   "execution_count": 47,
   "id": "96b613f1-5dfa-4292-b3e7-3107ce8deb96",
   "metadata": {},
   "outputs": [],
   "source": [
    "import seaborn as sns"
   ]
  },
  {
   "cell_type": "code",
   "execution_count": 54,
   "id": "90d79c7f-9419-4300-8461-456b7c4cc53a",
   "metadata": {},
   "outputs": [],
   "source": [
    "import warnings\n",
    "warnings.filterwarnings('ignore')"
   ]
  },
  {
   "cell_type": "code",
   "execution_count": 55,
   "id": "52bd9845-4396-4fd7-bbad-83ebb4dcdb39",
   "metadata": {},
   "outputs": [
    {
     "data": {
      "image/png": "[encoded data removed]",
      "text/plain": [
       "<Figure size 640x480 with 1 Axes>"
      ]
     },
     "metadata": {},
     "output_type": "display_data"
    }
   ],
   "source": [
    "sns.histplot(data = df, x = 'petal_length', hue='species', kde='True', bins=20);\n",
    "plt.title('Plot the distribution of petal lengths for each specie ::')\n",
    "plt.xlabel('petal_length')\n",
    "plt.ylabel('count')\n",
    "plt.show();"
   ]
  },
  {
   "cell_type": "code",
   "execution_count": null,
   "id": "ec83d485-b685-4db0-b244-2c788ea788e2",
   "metadata": {},
   "outputs": [],
   "source": []
  }
 ],
 "metadata": {
  "kernelspec": {
   "display_name": "Python 3 (ipykernel)",
   "language": "python",
   "name": "python3"
  },
  "language_info": {
   "codemirror_mode": {
    "name": "ipython",
    "version": 3
   },
   "file_extension": ".py",
   "mimetype": "text/x-python",
   "name": "python",
   "nbconvert_exporter": "python",
   "pygments_lexer": "ipython3",
   "version": "3.11.7"
  }
 },
 "nbformat": 4,
 "nbformat_minor": 5
}
